{
 "cells": [
  {
   "cell_type": "markdown",
   "metadata": {},
   "source": [
    "#### 仿射变换"
   ]
  },
  {
   "cell_type": "code",
   "execution_count": null,
   "metadata": {},
   "outputs": [],
   "source": [
    "# 平移\n",
    "import cv2\n",
    "import numpy as np\n",
    "import matplotlib.pyplot as plt\n",
    "img = cv2.imread('../../image/1.jpg')\n",
    "img= cv2.cvtColor(img,cv2.COLOR_BGR2GRAY)\n",
    "height,width = img.shape\n",
    "# 平移distancd\n",
    "tx = 100\n",
    "ty = 100\n",
    "# 定义转换矩阵M\n",
    "M = np.float32([[1,0,tx],[0,1,ty]])\n",
    "# 对原始图像执行变换矩阵M的转换，大小保持不变，输出图像dst\n",
    "dst = cv2.warpAffine(img,M,(width,height))\n",
    "plt.imshow(dst,'gray')\n",
    "plt.show()"
   ]
  },
  {
   "cell_type": "code",
   "execution_count": null,
   "metadata": {},
   "outputs": [],
   "source": [
    "# 旋转\n",
    "center = (width/2,height/2)\n",
    "# 旋转角度\n",
    "angle = 45\n",
    "#缩放因子 缩小一倍\n",
    "scale=0.5\n",
    "# 通过cv2.getRotationMatrix2D获取矩阵\n",
    "M = cv2.getRotationMatrix2D(center,angle,scale)\n",
    "# 通过cv2.warpAffine函数变换矩阵应用到img上\n",
    "dst = cv2.warpAffine(img,M,(width,height))\n",
    "plt.imshow(dst,'gray')\n",
    "plt.show()"
   ]
  },
  {
   "cell_type": "markdown",
   "metadata": {},
   "source": [
    "#### 透视变换"
   ]
  },
  {
   "cell_type": "code",
   "execution_count": null,
   "metadata": {},
   "outputs": [],
   "source": [
    "# 将图片正视化\n",
    "# 预处理\n",
    "dst.shape\n",
    "gray = cv2.resize(dst,(400,600))\n",
    "\n",
    "# 高斯滤波\n",
    "Guass = cv2.GaussianBlur(gray,(5,5),0)\n",
    "# canny边缘检测\n",
    "Canny = cv2.Canny(Guass.copy(),100,200)\n",
    "# 图像轮廓   线\n",
    "contours = cv2.findContours(Canny.copy(),cv2.RETR_LIST,cv2.CHAIN_APPROX_SIMPLE)[0]\n",
    "# 找最大的轮廓\n",
    "max_list_contours = sorted(contours,key=cv2.contourArea,reverse=True)[:5]\n",
    "# 筛选并进行轮廓近似，画矩形\n",
    "screenCnt=0\n",
    "for cnt in max_list_contours:\n",
    "    epsilon = 0.02 * cv2.arcLength(cnt, True)\n",
    "    approx = cv2.approxPolyDP(cnt, epsilon, True)\n",
    "    if len(approx) == 4:\n",
    "        screenCnt = approx\n",
    "        print(1)\n",
    "        break\n",
    "\n"
   ]
  },
  {
   "cell_type": "code",
   "execution_count": null,
   "metadata": {},
   "outputs": [],
   "source": [
    "import cv2\n",
    "import numpy as np\n",
    "import matplotlib.pyplot as plt\n",
    "img = cv2.imread('../../image/1.jpg')\n",
    "img= cv2.cvtColor(img,cv2.COLOR_BGR2GRAY)\n",
    "img = cv2.resize(img,(400,600))\n",
    "# 变换之前的坐标位置\n",
    "rect= np.array([[0,0],[400,0],[400,600],[0,600]],dtype='float32')\n",
    "# 变换之后的坐标位置\n",
    "dst = np.array([[100,0],[300,0],[300,500],[0,500]],dtype='float32')\n",
    "M = cv2.getPerspectiveTransform(rect, dst)\n",
    "warped = cv2.warpPerspective(img.copy(), M, (300, 500))\n",
    "'''\n",
    " src:输入图像矩阵\n",
    " M3*3的透视变换矩阵,可以通过getPerspectiveTransform等函数获取\n",
    " dsize:结果图像大小，为宽和高的二元组\n",
    " dst:输出结果图像，可以省略，结果图像会作为函数处理结果输出\n",
    " flags:可选参数,插值方法的组合(int 类型），默认值 INTER_LINEAR,\n",
    " 本函数官方材料说明取值为INTER_LINEAR 或 INTER_NEAREST与 WARP_INVERSE_MAP的组合,\n",
    " 但老猿测试其他标志也是支持的,具体取值及含义请参考\n",
    "'''\n",
    "cv2.imshow('Scanned', warped)\n",
    "cv2.waitKey(0)\n",
    "cv2.destroyAllWindows()"
   ]
  },
  {
   "cell_type": "markdown",
   "metadata": {},
   "source": [
    "#### 特征匹配\n"
   ]
  },
  {
   "cell_type": "code",
   "execution_count": 21,
   "metadata": {},
   "outputs": [],
   "source": [
    "# 带有SIFT描述符和比例测试的BF匹配：\n",
    "import cv2\n",
    "img1 = cv2.imread('../../image/1.jpg')\n",
    "# 设一个ROI为被匹配的图像\n",
    "ROI = img1[400:800,300:800]            # trainImage\n",
    "img1=cv2.resize(img,None,fx=0.5,fy=0.5,interpolation=cv2.INTER_CUBIC)\n",
    "img2=cv2.resize(ROI,(img1.shape[1],img1.shape[0]))\n",
    "# 初始化SIFT特征点检测器\n",
    "sift = cv2.xfeatures2d.SIFT_create()\n",
    "# 检测特征点与描述符\n",
    "kp1, des1 = sift.detectAndCompute(img1,None)\n",
    "kp2, des2 = sift.detectAndCompute(img2,None)\n",
    "# 创建蛮力（BF）匹配器\n",
    "bf = cv2.BFMatcher()\n",
    "matches = bf.knnMatch(des1,des2, k=2)\n",
    "# 比值测试，首先获取与 A 距离最近的点 B（最近）和 C（次近），只有当 B/C\n",
    "# 小于阈值时（ 0.75）才被认为是匹配，因为假设匹配是一一对应的，真正的匹配的理想距离为 0\n",
    "good = []\n",
    "for m,n in matches:\n",
    "    if m.distance < 0.75*n.distance:\n",
    "        good.append([m])\n",
    "# cv.drawMatchesKnn()把列表作为匹配项。\n",
    "img3 = cv2.drawMatchesKnn(img1,kp1,img2,kp2,good[:10],None,flags=2)\n",
    "cv2.imshow(\"show\",img3)\n",
    "cv2.waitKey()\n",
    "cv2.destroyAllWindows()"
   ]
  }
 ],
 "metadata": {
  "kernelspec": {
   "display_name": "Python 3.9.7 64-bit",
   "language": "python",
   "name": "python3"
  },
  "language_info": {
   "codemirror_mode": {
    "name": "ipython",
    "version": 3
   },
   "file_extension": ".py",
   "mimetype": "text/x-python",
   "name": "python",
   "nbconvert_exporter": "python",
   "pygments_lexer": "ipython3",
   "version": "3.9.7"
  },
  "orig_nbformat": 4,
  "vscode": {
   "interpreter": {
    "hash": "5504cb22fe740c3ce7305a705f94968d771bc53c03c973762407d2d6059a87ff"
   }
  }
 },
 "nbformat": 4,
 "nbformat_minor": 2
}
