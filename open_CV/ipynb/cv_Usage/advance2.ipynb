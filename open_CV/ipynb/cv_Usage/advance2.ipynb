{
 "cells": [
  {
   "cell_type": "markdown",
   "metadata": {},
   "source": [
    "#### 3：像素运算和图像亮度对比度调节"
   ]
  },
  {
   "cell_type": "code",
   "execution_count": 4,
   "metadata": {},
   "outputs": [
    {
     "name": "stdout",
     "output_type": "stream",
     "text": [
      "--------- Hello Python ---------\n"
     ]
    }
   ],
   "source": [
    "\n",
    "import cv2 as cv\n",
    "import numpy as np\n",
    "\n",
    "def add_demo(m1, m2):#加法\n",
    "    dst = cv.add(m1, m2)\n",
    "    cv.imshow(\"add_demo\", dst)\n",
    "\n",
    "def subtract_demo(m1, m2):#减法\n",
    "    dst = cv.subtract(m1, m2)\n",
    "    cv.imshow(\"subtract_demo\", dst)\n",
    "\n",
    "def divide_demo(m1, m2):#乘法\n",
    "    dst = cv.divide(m1, m2)\n",
    "    cv.imshow(\"divide_demo\", dst)\n",
    "\n",
    "def multiply_demo(m1, m2):#除法\n",
    "    dst = cv.multiply(m1, m2)\n",
    "    cv.imshow(\"multiply_demo\", dst)\n",
    "\n",
    "print(\"--------- Hello Python ---------\")\n",
    "src1 = cv.imread(\"D:\\\\pythonProject\\\\open_CV\\\\image\\\\black.jpg\")\n",
    "src2 = cv.imread(\"D:\\\\pythonProject\\\\open_CV\\\\image\\\\girl_hiking.jpg\")\n",
    "src1=cv.resize(src1,(400,300))\n",
    "src2=cv.resize(src2,(400,300))\n",
    "# cv.imshow(\"image1\", src1)\n",
    "# cv.imshow(\"image2\", src2)\n",
    "add_demo(src1, src2)#加法\n",
    "subtract_demo(src1, src2)\n",
    "cv.waitKey(0)\n",
    "cv.destroyAllWindows()"
   ]
  },
  {
   "cell_type": "markdown",
   "metadata": {},
   "source": [
    "2.像素逻辑运算"
   ]
  },
  {
   "cell_type": "code",
   "execution_count": 6,
   "metadata": {},
   "outputs": [],
   "source": [
    "def logic_and(m1, m2):\n",
    "    dst = cv.bitwise_and(m1, m2)\n",
    "    cv.imshow(\"logic_and\", dst)\n",
    "\n",
    "def logic_or(m1, m2):\n",
    "    dst = cv.bitwise_or(m1, m2)\n",
    "    cv.imshow(\"logic_or\", dst)\n",
    "\n",
    "def logic_not(m1, m2):\n",
    "    dst = cv.bitwise_not(m1, m2)\n",
    "    cv.imshow(\"logic_not\", dst)\n",
    "\n",
    "src1 = cv.imread(\"D:\\\\pythonProject\\\\open_CV\\\\image\\\\black.jpg\")\n",
    "src2 = cv.imread(\"D:\\\\pythonProject\\\\open_CV\\\\image\\\\girl_hiking.jpg\")\n",
    "src1=cv.resize(src1,(400,300))\n",
    "src2=cv.resize(src2,(400,300))\n",
    "\n",
    "logic_and(src1, src2)#与\n",
    "logic_or(src1, src2)#或\n",
    "logic_not(src1, src2)#非\n",
    "cv.waitKey(0)\n",
    "cv.destroyAllWindows()\n"
   ]
  },
  {
   "cell_type": "markdown",
   "metadata": {},
   "source": []
  },
  {
   "cell_type": "code",
   "execution_count": 10,
   "metadata": {},
   "outputs": [],
   "source": [
    "def contrast_brightness_demo(image, c, b):\n",
    "    h, w, ch = image.shape\n",
    "    blank = np.zeros([h, w, ch], image.dtype)#空白图像,全黑\n",
    "    dst = cv.addWeighted(image, c, blank, 1-c, b)\n",
    "    cv.imshow(\"con-bri-demo\", dst)\n",
    "\n",
    "src1 = cv.imread(\"D:\\\\pythonProject\\\\open_CV\\\\image\\\\black.jpg\")\n",
    "contrast_brightness_demo(src1,10,0)\n",
    "cv.waitKey(0)\n",
    "cv.destroyAllWindows()"
   ]
  }
 ],
 "metadata": {
  "kernelspec": {
   "display_name": "Python 3.9.7 64-bit",
   "language": "python",
   "name": "python3"
  },
  "language_info": {
   "codemirror_mode": {
    "name": "ipython",
    "version": 3
   },
   "file_extension": ".py",
   "mimetype": "text/x-python",
   "name": "python",
   "nbconvert_exporter": "python",
   "pygments_lexer": "ipython3",
   "version": "3.9.7"
  },
  "orig_nbformat": 4,
  "vscode": {
   "interpreter": {
    "hash": "5504cb22fe740c3ce7305a705f94968d771bc53c03c973762407d2d6059a87ff"
   }
  }
 },
 "nbformat": 4,
 "nbformat_minor": 2
}
