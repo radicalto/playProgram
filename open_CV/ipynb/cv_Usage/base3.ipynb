{
 "cells": [
  {
   "cell_type": "markdown",
   "metadata": {},
   "source": [
    "#### 19：图像金字塔和图像拉普拉斯金字塔 (用于图像放大和缩小)"
   ]
  },
  {
   "cell_type": "code",
   "execution_count": null,
   "metadata": {},
   "outputs": [],
   "source": [
    "# 向下取样   -- 缩小\n",
    "# 高斯卷积核：自身像素点取36，近一些的取24，越远的像素越低。最后除以像素点个数\n",
    "# 删除偶数行列：使尺寸变为原始四分之一。向下取样会丢失一些信息\n",
    "# dst=cv2.pyrDown(src)\n",
    "import cv2\n",
    "import numpy as np\n",
    "down_src = cv2.imread(\"../../image/black.jpg\")\n",
    "down=cv2.pyrDown(down_src)\n",
    "cv2.imshow(\"down\",down)\n",
    "# 向上取样   -- 放大\n",
    "# 在每个方向上扩大到原来的2倍，新增的行和列用0补充\n",
    "# 使用和向下取样同样的卷积核✖4，获得新增像素的新值\n",
    "# dst=cv2.pyrUp(src)\n",
    "up_src = cv2.imread(\"../../image/damie.jpg\")\n",
    "up=cv2.pyrUp(up_src)\n",
    "cv2.imshow(\"up\",up)\n",
    "cv2.waitKey()\n",
    "cv2.destroyAllWindows()"
   ]
  },
  {
   "cell_type": "code",
   "execution_count": null,
   "metadata": {},
   "outputs": [],
   "source": [
    "# 拉普拉斯金字塔\n",
    "# 结果=原始图像-先向下再向上\n",
    "'''\n",
    "==( Li = Gi- PyrUp(PyrDown(Gi)) )==\n",
    "Li  拉普拉斯金字塔图像 得规则比例图片\n",
    "Gi  原图像\n",
    "'''\n",
    "import cv2\n",
    "import numpy as np\n",
    "o = cv2.imread(\"../../image/shy.jpg\")\n",
    "od=cv2.pyrDown(o)\n",
    "odu=cv2.pyrUp(od)\n",
    "print(o.shape,odu.shape)\n",
    "lapPyr0=o-odu\n",
    "\n",
    "o1=od\n",
    "o1d=cv2.pyrDown(o1)\n",
    "o1du=cv2.pyrUp(o1d)\n",
    "print(o1.shape,o1du.shape)\n",
    "lapPyr1=o1-o1du\n",
    "\n",
    "cv2.imshow(\"orginal\",o)\n",
    "cv2.imshow(\"laplas_0\",lapPyr0)\n",
    "cv2.imshow(\"laplas_1\",lapPyr1)\n",
    "cv2.waitKey()\n",
    "cv2.destroyAllWindows()"
   ]
  },
  {
   "cell_type": "markdown",
   "metadata": {},
   "source": [
    "#### 20：图像轮廓\n",
    "详情解析:https://zhuanlan.zhihu.com/p/511984691\n",
    "mode:https://img-blog.csdnimg.cn/20200706183507600.png\n",
    "method:https://img-blog.csdnimg.cn/20200706183539500.png"
   ]
  },
  {
   "cell_type": "code",
   "execution_count": 12,
   "metadata": {},
   "outputs": [],
   "source": [
    "'''\n",
    "1.对象为二值图像，首先进行阈值分割或者边缘检测。\n",
    "2.查找轮廓需要更改原始图像，通常使用原始图像的一份进行拷贝。\n",
    "3.在opencv里,是从黑色背景里找白色。因此对象必须是白色，背景为黑色。\n",
    "'''\n",
    "# 通过cv2.findContours() 查找轮廓在哪里，再通过 cv2.drawContours()将查找的轮廓绘制出来。\n",
    "'''\n",
    "cv2.findContours()\n",
    "contours,hierarchy=cv2.findContours(image,mode,method)\n",
    "contours:轮廓\n",
    "hierarchy:图像的拓扑信息（轮廓层次）（存储上一个轮廓，父轮廓…）\n",
    "image:原始图像\n",
    "mode:轮廓检索方式\n",
    "method:轮廓的近似方法\n",
    "'''\n",
    "'''\n",
    "r=cv2.drawContours(image, contours, contourIdx, color[, thickness])\n",
    "r:目标图像\n",
    "image:原始图像\n",
    "contours: 所有的输入轮廓边缘数组\n",
    "contourIdx ：需要绘制的边缘索引，如果全部绘制为-1。如果有多个目标,可以绘制第一个目标0,第二个目标1,第三个目标2.。。\n",
    "color:绘制的颜色,为BGR格式的SCalar\n",
    "thickness:可选，绘制的密度，即轮廓的画笔粗细\n",
    "'''\n",
    "import cv2\n",
    "import numpy as np\n",
    "o = cv2.imread('../../image/OCRTest.jpg')\n",
    "o = cv2.resize(o,(375,500))\n",
    "gray = cv2.cvtColor(o,cv2.COLOR_BGR2GRAY)#BGR-灰度   cv2.cvtColor(input_image, flag)用于颜色空间转换\n",
    "ret, binary = cv2.threshold(gray,127,255,cv2.THRESH_BINARY)#二值图像\n",
    "contours, hierarchy = cv2.findContours(gray,cv2.RETR_TREE,cv2.CHAIN_APPROX_SIMPLE)\n",
    "\n",
    "co=o.copy()#对原始图像进行绘制\n",
    "r=cv2.drawContours(co,contours,-1,(0,0,225),2)#co为复制图像，轮廓会修改原始图像\n",
    "cv2.imshow(\"original\",o)\n",
    "cv2.imshow(\"binary\",gray)\n",
    "cv2.imshow(\"contours\",r)\n",
    "cv2.waitKey()\n",
    "cv2.destroyAllWindows()"
   ]
  },
  {
   "cell_type": "markdown",
   "metadata": {},
   "source": [
    "轮廓特征和近似"
   ]
  },
  {
   "cell_type": "code",
   "execution_count": 8,
   "metadata": {},
   "outputs": [],
   "source": [
    "import cv2\n",
    "import numpy as np\n",
    "o = cv2.imread('../../image/black.jpg')\n",
    "gray = cv2.cvtColor(o,cv2.COLOR_BGR2GRAY)\n",
    "ret, binary = cv2.threshold(gray,127,255,cv2.THRESH_BINARY)\n",
    "contours, hierarchy = cv2.findContours(binary,cv2.RETR_TREE,cv2.CHAIN_APPROX_SIMPLE)\n",
    "cnt = contours[0]\n",
    "co=o.copy()\n",
    "r=cv2.drawContours(co,cnt,-1,(0,0,225),2)\n",
    "cv2.imshow(\"res\",r)\n",
    "cv2.waitKey()\n",
    "cv2.destroyAllWindows()"
   ]
  },
  {
   "cell_type": "code",
   "execution_count": 11,
   "metadata": {},
   "outputs": [
    {
     "name": "stdout",
     "output_type": "stream",
     "text": [
      "(4, 1, 2) (250, 1, 2)\n"
     ]
    }
   ],
   "source": [
    "epsilon = 0.1*cv2.arcLength(cnt,True)\n",
    "approx = cv2.approxPolyDP(cnt,epsilon,True)#cv2.approxPolyDP()函数的输出，为近似多边形的顶点坐标\n",
    "print(approx.shape,cnt.shape)\n",
    "co =o.copy()\n",
    "img1 = cv2.drawContours(co, [approx], -1, (0, 0, 255), 2)\n",
    "cv2.imshow(\"resu\",img1)\n",
    "cv2.waitKey()\n",
    "cv2.destroyAllWindows()"
   ]
  },
  {
   "cell_type": "code",
   "execution_count": 12,
   "metadata": {},
   "outputs": [],
   "source": [
    "hull = cv2.convexHull(cnt)\n",
    "co =o.copy()\n",
    "img = cv2.drawContours(co, [hull], 0,  (255, 0, 0), 2)\n",
    "cv2.imshow(\"result\",img1)\n",
    "cv2.waitKey()\n",
    "cv2.destroyAllWindows()"
   ]
  },
  {
   "cell_type": "markdown",
   "metadata": {},
   "source": [
    "边界矩形"
   ]
  },
  {
   "cell_type": "code",
   "execution_count": 10,
   "metadata": {},
   "outputs": [],
   "source": [
    "x,y,w,h = cv2.boundingRect(cnt)# 这个函数可以获得一个图像的最小矩形边框一些信息\n",
    "co =o.copy()\n",
    "img = cv2.rectangle(co,(x,y),(x+w,y+h),(0,255,0),2)# 画框的函数\n",
    "cv2.imshow(\"result_b\",img)\n",
    "cv2.waitKey()\n",
    "cv2.destroyAllWindows()"
   ]
  },
  {
   "cell_type": "code",
   "execution_count": null,
   "metadata": {},
   "outputs": [],
   "source": [
    "area = cv2.contourArea(cnt)\n",
    "x,y,w,h = cv2.boundingRect(cnt)\n",
    "rect_area = w*h\n",
    "extent = float(area) / rect_area\n",
    "print('轮廓面积与边界矩形比：',extent)"
   ]
  },
  {
   "cell_type": "markdown",
   "metadata": {},
   "source": [
    "外接圆"
   ]
  },
  {
   "cell_type": "code",
   "execution_count": 11,
   "metadata": {},
   "outputs": [],
   "source": [
    "(x,y),radius = cv2.minEnclosingCircle(cnt)\n",
    "center = (int(x),int(y))\n",
    "radius = int(radius)\n",
    "co =o.copy()\n",
    "img = cv2.circle(co,center,radius,(0,255,0),2)\n",
    "cv2.imshow(\"result_bg\",img)\n",
    "cv2.waitKey()\n",
    "cv2.destroyAllWindows()"
   ]
  }
 ],
 "metadata": {
  "kernelspec": {
   "display_name": "Python 3.9.7 64-bit",
   "language": "python",
   "name": "python3"
  },
  "language_info": {
   "codemirror_mode": {
    "name": "ipython",
    "version": 3
   },
   "file_extension": ".py",
   "mimetype": "text/x-python",
   "name": "python",
   "nbconvert_exporter": "python",
   "pygments_lexer": "ipython3",
   "version": "3.9.7"
  },
  "orig_nbformat": 4,
  "vscode": {
   "interpreter": {
    "hash": "5504cb22fe740c3ce7305a705f94968d771bc53c03c973762407d2d6059a87ff"
   }
  }
 },
 "nbformat": 4,
 "nbformat_minor": 2
}
