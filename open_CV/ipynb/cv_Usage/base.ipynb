{
 "cells": [
  {
   "cell_type": "markdown",
   "metadata": {},
   "source": [
    "#### 感兴趣区域ROI\n",
    "整体学习网址 https://blog.csdn.net/kobeyu652453/article/details/107200371"
   ]
  },
  {
   "cell_type": "code",
   "execution_count": 2,
   "metadata": {},
   "outputs": [
    {
     "name": "stdout",
     "output_type": "stream",
     "text": [
      "4665600\n",
      "(1440, 1080, 3)\n",
      "uint8\n"
     ]
    }
   ],
   "source": [
    "import cv2\n",
    "import numpy as np\n",
    "a=cv2.imread('D:\\\\pythonProject\\\\open_CV\\\\image\\\\1.jpg',flags=cv2.IMREAD_UNCHANGED)#cv2.IMREAD_UNCHANGED 未改变\n",
    "face=a[400:800,300:800]\n",
    "print(a.size)#获取像素数目\n",
    "print(a.shape)#shape ,返回图像的 行数，列数，通道数的元祖\n",
    "print(a.dtype)#图片类型\n",
    "cv2.imshow(\"face\",face)\n",
    "cv2.waitKey()\n",
    "cv2.destroyAllWindows()"
   ]
  },
  {
   "cell_type": "markdown",
   "metadata": {},
   "source": [
    "#### 模板匹配"
   ]
  },
  {
   "cell_type": "code",
   "execution_count": 1,
   "metadata": {},
   "outputs": [],
   "source": [
    "# ①TM_SQDIFF是平方差匹配；TM_SQDIFF_NORMED是标准平方差匹配。利用平方差来进行匹配,最好匹配为0.匹配越差,匹配值越大。\n",
    "# ②TM_CCORR是相关性匹配；TM_CCORR_NORMED是标准相关性匹配。采用模板和图像间的乘法操作,数越大表示匹配程度较高, 0表示最坏的匹配效果。\n",
    "# ③TM_CCOEFF是相关性系数匹配；TM_CCOEFF_NORMED是标准相关性系数匹配。将模版对其均值的相对值与图像对其均值的相关值进行匹配,1表示完美匹配,-1表示糟糕的匹配,0表示没有任何相关性(随机序列)。\n",
    "\n",
    "# import cv2\n",
    "# import numpy as np\n",
    "# a=cv2.imread('D:\\\\pythonProject\\\\open_CV\\\\image\\\\1.jpg',flags=cv2.IMREAD_UNCHANGED)#cv2.IMREAD_UNCHANGED 未改变\n",
    "# face=a[400:800,300:800]\n",
    "# result = cv2.matchTemplate(face,a,cv2.TM_CCORR)\n",
    "# (_, score, _, _) = cv2.minMaxLoc(result)\n",
    "# cv2.imshow(\"result\",result)\n",
    "# cv2.waitKey()\n",
    "# cv2.destroyAllWindows()\n",
    "import cv2 as cv\n",
    "import numpy as np\n",
    "\n",
    "target = cv.imread(\"../../image/1.jpg\")\n",
    "tpl = target[400:800,300:800]\n",
    "# cv.imshow(\"template image\",tpl)\n",
    "# cv.imshow(\"target image\",target)\n",
    "methods = [cv.TM_SQDIFF_NORMED,cv.TM_CCORR_NORMED,cv.TM_CCOEFF_NORMED]#各种匹配算法\n",
    "th,tw = tpl.shape[:2]#获取模板图像的高宽\n",
    "result = cv.matchTemplate(target,tpl,methods[1])\n",
    "# result是我们各种算法下匹配后的图像\n",
    "cv.imshow(\"%s\"%methods[1],result)\n",
    "#获取的是每种公式中计算出来的值，每个像素点都对应一个值\n",
    "min_val,max_val,min_loc,max_loc = cv.minMaxLoc(result)\n",
    "tl = max_loc\n",
    "br = (tl[0]+tw,tl[1]+th)    #右下点\n",
    "cv.rectangle(target,tl,br,(0,0,255),2)#画矩形\n",
    "cv.imshow(\"match-%s\"%methods[1],target)\n",
    "cv.waitKey(0)   #等待用户操作，里面等待参数是毫秒，我们填写0，代表是永远，等待用户操作\n",
    "cv.destroyAllWindows()  #销毁所有窗口"
   ]
  },
  {
   "cell_type": "markdown",
   "metadata": {},
   "source": [
    "#### 图像缩放与图像翻转\n",
    "##### b=cv2.resize(src,dszie=None,fx=0.5,fy=0.5)\n",
    "src原始图像路径     dsize 目标图像大小 （列，行）\n",
    "fx,fy 缩放大小 比列，在dsize不用情况下。"
   ]
  },
  {
   "cell_type": "code",
   "execution_count": null,
   "metadata": {},
   "outputs": [],
   "source": [
    "#dsize  按比例缩放\n",
    "a=cv2.imread('D:\\\\pythonProject\\\\open_CV\\\\image\\\\1.jpg')\n",
    "rows,cols=a.shape[:2]\n",
    "size=(round(cols*0.5),round(rows*0.5))#返回跟参数最接近的整数值，即四舍五入；\n",
    "b=cv2.resize(a,size)\n",
    "cv2.imshow(\"b\",b)\n",
    "\n",
    "# 指定大小缩放\n",
    "new_A=cv2.resize(a,dsize=(200,100))\n",
    "cv2.imshow(\"new_A\",new_A)\n",
    "\n",
    "#fx，fy缩放\n",
    "b=cv2.resize(a,None,fx=0.5,fy=0.5)\n",
    "cv2.imshow(\"resize\",b)\n",
    "cv2.waitKey()\n",
    "cv2.destroyAllWindows()"
   ]
  },
  {
   "cell_type": "markdown",
   "metadata": {},
   "source": [
    "#### 图像翻转\n",
    "dst=cv2.flip(src,flipCode)\n",
    "- src:原始图像  \n",
    "- flipCode:翻转模式 ：左右翻转，上下翻转，左右上下翻转。\n",
    "\n",
    "    - flipCode=0：以X轴上下翻转\n",
    "    - flipCode>0：以y轴左右翻转\n",
    "    - flipCode<0:以x轴和y轴翻转."
   ]
  },
  {
   "cell_type": "code",
   "execution_count": null,
   "metadata": {},
   "outputs": [],
   "source": [
    "import cv2\n",
    "a=cv2.imread('D:\\\\pythonProject\\\\open_CV\\\\image\\\\1.jpg')#cv2.IMREAD_UNCHANGED 未改变\n",
    "b=cv2.flip(a,-1)\n",
    "cv2.namedWindow(\"flip\",0)\n",
    "cv2.resizeWindow(\"flip\",400,300)\n",
    "cv2.imshow(\"flip\",b)\n",
    "cv2.waitKey()\n",
    "cv2.destroyAllWindows()"
   ]
  },
  {
   "cell_type": "markdown",
   "metadata": {},
   "source": [
    "#### 10：阈值分割\n",
    "threshold:中文阈值\\\n",
    "retval,dst=cv2.threshold(src,thresh,maxval,type)\\\n",
    "- retval:阈值 一般和thresh相同\n",
    "- dst:处理结果的图像\n",
    "- src:原始图像\n",
    "- thresh:阈值，阈值线，对应上文的红线\n",
    "- maxval:最大值,阈值分割后指定的最大值，有1和255。最大值为1对应是二值化图像数据\n",
    "- type：类型,指定那种阈值\n",
    "    - cv2.THRESH_BINARY 二进制阈值 大于阈值为255 | 化0 cv2.THRESH_TOZERO\\\n",
    "    - cv2.THRESH_BINARY_INV 反二进制阈值 | 化0 cv2.THRESH_TOZERO_INV\\\n",
    "    - cv2.THRESH_TRUNC 截断阈值\\\n",
    "    - cv2.THRESH_BINARY 二进制阈值"
   ]
  },
  {
   "cell_type": "code",
   "execution_count": null,
   "metadata": {},
   "outputs": [],
   "source": [
    "import cv2\n",
    "a=cv2.imread('D:\\\\pythonProject\\\\open_CV\\\\image\\\\1.jpg')\n",
    "#retval,dst=cv2.threshold(src,thresh,maxval,type)\n",
    "retval,dst=cv2.threshold(a,127,255,cv2.THRESH_BINARY)#cv2.THRESH_BINARY 二进制阈值 大于阈值为255\n",
    "cv2.namedWindow(\"threshold\",0)\n",
    "cv2.resizeWindow(\"threshold\",400,300)\n",
    "cv2.imshow(\"threshold\",dst)\n",
    "cv2.waitKey()\n",
    "cv2.destroyAllWindows()"
   ]
  },
  {
   "cell_type": "markdown",
   "metadata": {},
   "source": [
    "#### 11：图像滤波（均值，方框，高斯，中值）\n",
    "图像滤波的目的有两个:一是抽出对象的特征作为图像识别的特征模式;另一个是为适应图像处理的要求，消除图像数字化时所混入的噪声"
   ]
  },
  {
   "cell_type": "code",
   "execution_count": null,
   "metadata": {},
   "outputs": [],
   "source": [
    "# 均值滤波\n",
    "''' \n",
    "    处理结果=cv2.blur(原始图像,核大小)\n",
    "    核大小：以（宽度，高度）的元祖\n",
    "    效果：使图像变模糊啦。能处理被椒盐攻击过的照片\n",
    "'''\n",
    "import cv2\n",
    "src = cv2.imread('D:\\\\pythonProject\\\\open_CV\\\\image\\\\jiaoYan.jpg')\n",
    "b = cv2.blur(src,(8,8))\n",
    "print(type(src),src,'\\n',type(b),b)\n",
    "cv2.imshow(\"result\",b)\n",
    "cv2.waitKey(0)\n",
    "cv2.destroyAllWindows()\n"
   ]
  },
  {
   "cell_type": "code",
   "execution_count": 4,
   "metadata": {},
   "outputs": [],
   "source": [
    "#方框滤波\n",
    "'''\n",
    "实现方法: boxFilter\n",
    "dst = cv2.boxFilter( src, ddepth, ksize, anchor, normalize, borderType )\n",
    "ddepth: int类型的目标图像深度,-1表示与原始图像一致\n",
    "ksize:（宽度，高度）元祖\n",
    "anchor: 锚点，默认值为(-1, -1)，表示当前计算均值的点位于核的中心点位置。\n",
    "normalize:是否对目标图像进行归一化处理\n",
    "normalize为true 时与均值滤波一样,为false时表示任意一个点的像素为周围像素点的和,容易发生溢出超过255\n",
    "borderType是边界样式,该值决定了以何种方式处理边界。\n",
    "'''\n",
    "import cv2\n",
    "src = cv2.imread(\"../../image/jiaoYan.jpg\")\n",
    "a = cv2.boxFilter(src,-1,(3,3),normalize=0)# 不进行归一化处理\n",
    "b = cv2.boxFilter(src,-1,(5,5),normalize=1)# 进行归一化处理\n",
    "cv2.imshow(\"normalize=0\",a)# normalize设置为0的滤波处理结果，即没有对图像进行归一化处理。所以在进行滤波时,\n",
    "                           # 计算的是 3×3 邻域的像素值之和，图像的像素值基本都会超过当前像素值的最大值 255\n",
    "cv2.imshow(\"normalize=1\",b)\n",
    "cv2.waitKey(0)\n",
    "cv2.destroyAllWindows()"
   ]
  },
  {
   "cell_type": "code",
   "execution_count": 7,
   "metadata": {},
   "outputs": [],
   "source": [
    "#高斯滤波\n",
    "'''\n",
    "中心点权重高，越远越低\n",
    "实现方法:GaussianBlur\n",
    "处理结果=cv2.GaussianBlur(原始图像src,核函数大小ksize,sigmaX)\n",
    "核函数大小ksize:(N,N)必须是奇数  (滤波器的大小应该是奇数，这样它才有一个中心)\n",
    "sigmaX:控制x方向方差,控制权重,一般取0,它自己去计算方差。y轴方差和x一致  也有sigmaY 同sigmaX\n",
    "'''\n",
    "import cv2\n",
    "src = cv2.imread(\"../../image/jiaoYan.jpg\")\n",
    "a = cv2.GaussianBlur(src,(5,5),sigmaX=0)\n",
    "cv2.imshow(\"GaussianBlur\",a)\n",
    "cv2.waitKey(0)\n",
    "cv2.destroyAllWindows()\n",
    "\n",
    "#*对图像添加高斯噪声\n",
    "def add_gauss_noise(image, mean=0, val=0.01):\n",
    "    size = image.shape\n",
    "    # 对图像归一化处理\n",
    "    image = image / 255\n",
    "    gauss = np.random.normal(mean, val**0.05, size)\n",
    "    image = image + gauss\n",
    "    return image\n",
    "# np.random.normal(loc=0.0, scale=1.0, size=None)\n",
    "'''\n",
    "loc(float):此概率分布的均值(对应着整个分布的中心centre\n",
    "scale(float):此概率分布的标准差（对应于分布的宽度.scale越大.图形越矮胖;scale越小.图形越瘦高)\n",
    "size(int or tuple of ints):输出的shape.默认为None.只输出一个值\n",
    "'''\n",
    "# 函数作用：\n",
    "# 返回一组符合高斯分布的概率密度随机数"
   ]
  },
  {
   "cell_type": "code",
   "execution_count": 8,
   "metadata": {},
   "outputs": [],
   "source": [
    "#中值滤波\n",
    "'''使用像素点邻域附近的像素的中值代替该点的像素值。通俗点来说，在这个像素的左边找五个像素点，\n",
    "右边找五个像素点，将这些像素进行排序，排序过后产生一个中值，用中间大小的值，来代替该像素的值。\n",
    "中值滤波可以有效的去除斑点和椒盐噪声。但是效率低，其运算时间 为均值滤波的五倍以上。'''\n",
    "# 实现方法:medianBlur\n",
    "# 目标图像=cv2.medianBlur(原始图像,intksize)\n",
    "# intksize:核函数，必须为奇数.\n",
    "import cv2\n",
    "src = cv2.imread(\"../../image/jiaoYan.jpg\")\n",
    "a = cv2.medianBlur(src,5)\n",
    "cv2.imshow(\"medianBlur\",a)\n",
    "cv2.waitKey(0)\n",
    "cv2.destroyAllWindows()"
   ]
  }
 ],
 "metadata": {
  "kernelspec": {
   "display_name": "Python 3.9.7 64-bit",
   "language": "python",
   "name": "python3"
  },
  "language_info": {
   "codemirror_mode": {
    "name": "ipython",
    "version": 3
   },
   "file_extension": ".py",
   "mimetype": "text/x-python",
   "name": "python",
   "nbconvert_exporter": "python",
   "pygments_lexer": "ipython3",
   "version": "3.9.7"
  },
  "orig_nbformat": 4,
  "vscode": {
   "interpreter": {
    "hash": "5504cb22fe740c3ce7305a705f94968d771bc53c03c973762407d2d6059a87ff"
   }
  }
 },
 "nbformat": 4,
 "nbformat_minor": 2
}
