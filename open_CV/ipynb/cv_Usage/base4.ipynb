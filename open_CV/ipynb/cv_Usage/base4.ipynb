{
 "cells": [
  {
   "cell_type": "markdown",
   "metadata": {},
   "source": [
    "#### 21：直方图和掩膜 原理及其应用"
   ]
  },
  {
   "cell_type": "code",
   "execution_count": null,
   "metadata": {},
   "outputs": [],
   "source": [
    "# 直方图概念\n",
    "# 横坐标：图像中各个像素点的灰度级\n",
    "# 纵坐标：具有该灰度级的像素个数\n",
    "'''\n",
    "python+opencv\n",
    "1.使用matplotlib绘制直方图\n",
    "函数:hist(数据源，像素级）\n",
    "数据源：图像，必须是一维数组\n",
    "像素级:一般是256,指[0-255]\n",
    "img_src.ravel()可以实现多维数组转一维。\n",
    "'''\n",
    "import cv2\n",
    "import matplotlib.pyplot as plt\n",
    "o=cv2.imread(\"../../image/1.jpg\")\n",
    "plt.hist(o.ravel(),256)# img_src.ravel()可以实现多维数组转一维\n",
    "plt.show()\n",
    "\n",
    "'''\n",
    "2.使用opencv绘制直方图\n",
    "hist=cv2.calcHist(images,channels,mask,histsize,ranges,accumulate)\n",
    "hist:直方图\n",
    "images:原始图像,格式[src]，需要用中括号括起来\n",
    "channels:通道,灰色直接[0],BGR对应[0],[1],[2]\n",
    "mask:掩码图像。如果一个图很大，需要计算部分图的直方图，需要掩码。\n",
    "histsize:BINS的数量,需要用中括号括起来。一般是[256]\n",
    "ranges:像素值范围,一般[0,255]\n",
    "accumulate:累积标识。可选参数、默认false,设为true为计算好几幅图的直方图。\n",
    "'''\n",
    "import cv2\n",
    "import matplotlib.pyplot as plt\n",
    "o=cv2.imread(\"../../image/1.jpg\")\n",
    "# o_1 = o[200:400,400:800]\n",
    "# cv2.imshow(\"b\",o_1)\n",
    "b = cv2.calcHist([o],[0],None,histSize=[256],ranges=[0,255])\n",
    "print(b)\n",
    "plt.plot(b,color='b')\n",
    "plt.show()"
   ]
  },
  {
   "cell_type": "markdown",
   "metadata": {},
   "source": [
    "使用掩膜的直方图"
   ]
  },
  {
   "cell_type": "code",
   "execution_count": null,
   "metadata": {},
   "outputs": [],
   "source": [
    "import cv2\n",
    "import numpy as np\n",
    "import matplotlib.pyplot as plt\n",
    "o=cv2.imread(\"../../image/shy.jpg\",cv2.IMREAD_GRAYSCALE)\n",
    "mask = np.zeros(o.shape,np.uint8)\n",
    "mask[50:150,50:150] = 255\n",
    "b = cv2.calcHist([o],[0],mask,histSize=[256],ranges=[0,255])# 有掩码\n",
    "print(type(o),type(b))\n",
    "print(o.shape,b.shape,o.ravel().shape)\n",
    "b_n = cv2.calcHist([o],[0],None,histSize=[256],ranges=[0,255])# 无掩码\n",
    "plt.plot(b,'b')\n",
    "plt.plot(b_n,'g')\n",
    "plt.show()"
   ]
  },
  {
   "cell_type": "markdown",
   "metadata": {},
   "source": [
    "掩膜处理\n",
    "黑色为0,其他色为1.将掩膜与原始图像进行与操作。得到处理结果"
   ]
  },
  {
   "cell_type": "code",
   "execution_count": null,
   "metadata": {},
   "outputs": [],
   "source": [
    "# cv2.bitwise_and(原始图像,掩膜)\n",
    "# bitwise:按位操作\n",
    "# and:与运算\n",
    "mask_img = cv2.bitwise_and(o,mask)\n",
    "cv2.imshow(\"mask_img\",mask_img)\n",
    "cv2.imshow('original',o)\n",
    "cv2.imshow('mask',mask)\n",
    "cv2.waitKey(0)\n",
    "cv2.destroyAllWindows()\n",
    "# print(mask)\n",
    "mask.__contains__(255)"
   ]
  },
  {
   "cell_type": "markdown",
   "metadata": {},
   "source": [
    "直方图均衡化"
   ]
  },
  {
   "cell_type": "code",
   "execution_count": null,
   "metadata": {},
   "outputs": [],
   "source": [
    "# dst=cv2.equalizeHist(src)\n",
    "# dst:处理结果\n",
    "# src:源图像\n",
    "import cv2\n",
    "import numpy as np\n",
    "import matplotlib.pyplot as plt\n",
    "img = cv2.imread('../../image/1.jpg',cv2.IMREAD_GRAYSCALE)\n",
    "equ = cv2.equalizeHist(img)\n",
    "plt.hist(img.ravel(),256)\n",
    "plt.figure()\n",
    "plt.hist(equ.flatten('K'),256)\n",
    "plt.show()\n",
    "plt.imshow(equ)"
   ]
  },
  {
   "cell_type": "code",
   "execution_count": null,
   "metadata": {},
   "outputs": [],
   "source": [
    "import cv2\n",
    "import numpy as np\n",
    "import matplotlib.pyplot as plt\n",
    "img = cv2.imread('../../image/1.jpg',cv2.IMREAD_GRAYSCALE)\n",
    "r=cv2.equalizeHist(img)\n",
    "cv2.imshow('origal',img)\n",
    "cv2.imshow('r',r)\n",
    "cv2.waitKey(0)\n",
    "cv2.destroyAllWindows()"
   ]
  },
  {
   "cell_type": "markdown",
   "metadata": {},
   "source": [
    "#### 傅里叶变换和逆傅里叶变换"
   ]
  },
  {
   "cell_type": "code",
   "execution_count": null,
   "metadata": {},
   "outputs": [],
   "source": [
    "'''\n",
    "返回结果=cv2.dft(原始图像,转换标识)\n",
    "返回结果：是双通道的，第一个为结果的实数部分。第二个为结果的虚数部分。\n",
    "原始图像:要求图像格式是np.float32。得首先转换np.float32(img)\n",
    "转换标识: 一般使用flags = cv2.DFT_COMPLEX_OUTPUT,输出的是一个复数阵列。\n",
    "numpy.fft.fftshift(dft)\n",
    "仍然使用这个将频破谱谱图像低频移到中心位置\n",
    "返回值=cv2.magnitude(参数1,参数2)\n",
    "使用这个函数将数值转换到8位数值形式(图像形式)\n",
    "'''\n",
    "import cv2\n",
    "import numpy as np\n",
    "import matplotlib.pyplot as plt\n",
    "img = cv2.imread('../../image/girl_hiking.jpg',cv2.IMREAD_GRAYSCALE)\n",
    "img_float32 = np.float32(img)\n",
    "f = cv2.dft(img_float32,flags=cv2.DFT_COMPLEX_OUTPUT) # 傅里叶变换 => 频率图\n",
    "fshift = np.fft.fftshift(f)# 移动低频到中间\n",
    "magnitude_spectrum = 20*np.log(cv2.magnitude(fshift[:,:,0],fshift[:,:,1]))# 设置频谱到【0-255】\n",
    "plt.subplot(121)\n",
    "plt.imshow(img, cmap = 'gray')\n",
    "plt.title('original')\n",
    "plt.axis('off')\n",
    "plt.subplot(122)\n",
    "plt.imshow(magnitude_spectrum, cmap = 'gray')\n",
    "plt.title('result')\n",
    "plt.axis('off')\n",
    "plt.show()\n",
    "# 傅里叶变换能得到高频，低频信息。针对低频，高频处理能得到不同的目的\n",
    "# 傅里叶变换是可逆的，逆傅里叶变换能得到原始图像。\n",
    "# 在频域对图像进行处理后，在频域处理的结果能反映到逆傅里叶变换图像上"
   ]
  },
  {
   "cell_type": "code",
   "execution_count": null,
   "metadata": {},
   "outputs": [],
   "source": [
    "'''\n",
    "numpy.fft.fft2()\n",
    "实现傅里叶变换，返回的是一个复数数组。\n",
    "numpy.fft.fftshift()\n",
    "将零频域分量移到频谱中心\n",
    "白色为fft.fft2得到的低频部分。将低频部分移到中心\n",
    "'''\n",
    "import cv2\n",
    "import numpy as np\n",
    "import matplotlib.pyplot as plt\n",
    "img = cv2.imread('../../image/1.jpg',0)\n",
    "f = np.fft.fft2(img)#傅里叶变换\n",
    "fshift = np.fft.fftshift(f)#移动低频到中间\n",
    "magnitude_spectrum = 20*np.log(np.abs(fshift))#设置频谱到【0-255】\n",
    "plt.subplot(121)\n",
    "plt.imshow(img, cmap = 'gray')\n",
    "plt.title('original')\n",
    "plt.axis('off')\n",
    "plt.subplot(122)\n",
    "plt.imshow(magnitude_spectrum, cmap = 'gray')\n",
    "plt.title('result')\n",
    "plt.axis('off')\n",
    "plt.show()"
   ]
  },
  {
   "cell_type": "code",
   "execution_count": null,
   "metadata": {},
   "outputs": [],
   "source": [
    "# numpy实现逆傅里叶变换\n",
    "# numpy.fft.ifftshift()\n",
    "# numpy.fft.fftshift()的逆操作\n",
    "# numpyfft.ifft2().\n",
    "# 逆傅里叶变换\n",
    "# iimg = np.abs(逆傅里叶变换结果)\n",
    "# 逆傅里叶变换也有负数，调整至的范围为[0-255}\n",
    "import cv2\n",
    "import numpy as np\n",
    "import matplotlib.pyplot as plt\n",
    "img = cv2.imread('../../image/1.jpg',0)\n",
    "f = np.fft.fft2(img)#傅里叶变换\n",
    "fshift = np.fft.fftshift(f)#移动位置\n",
    "ishift = np.fft.ifftshift(fshift)#逆移动位置\n",
    "iimg = np.fft.ifft2(ishift)#逆傅里叶变换\n",
    "print(iimg)\n",
    "iimg = np.abs(iimg)#取绝对值\n",
    "print(iimg)\n",
    "plt.subplot(121),plt.imshow(img, cmap = 'gray')\n",
    "plt.title('original'),plt.axis('off')\n",
    "plt.subplot(122),plt.imshow(iimg, cmap = 'gray')\n",
    "plt.title('iimg'),plt.axis('off')\n",
    "print(img)\n",
    "plt.show()"
   ]
  },
  {
   "cell_type": "markdown",
   "metadata": {},
   "source": [
    "#### 高通滤波，低通滤波"
   ]
  },
  {
   "cell_type": "code",
   "execution_count": null,
   "metadata": {},
   "outputs": [],
   "source": [
    "# 低频对应图像中变化缓慢的灰度分量\n",
    "# 高频对应着图像内变化越来越快的灰度分量\n",
    "# 低通滤波：衰减高频通低频，会模糊一张图。\n",
    "# 高通滤波：衰减低频通高频，增强图像尖锐细节，但是会造成图像对比度下降\n",
    "\n",
    "######### 高通滤波 #########\n",
    "import cv2\n",
    "import numpy as np\n",
    "import matplotlib.pyplot as plt\n",
    "img = cv2.imread('../../image/1.jpg',0)\n",
    "f = np.fft.fft2(img)\n",
    "fshift = np.fft.fftshift(f)\n",
    "rows,cols = img.shape\n",
    "crow,ccol = int(rows/2) , int(cols/2)\n",
    "fshift[crow-30:crow+30,ccol-30:ccol+30]=0\n",
    "new_f = np.fft.ifftshift(fshift)\n",
    "new_img = np.fft.ifft2(new_f)\n",
    "new_img = abs(new_img)\n",
    "print(new_img)\n",
    "plt.subplot(121)\n",
    "plt.imshow(img,'gray') \n",
    "plt.title('orginal')\n",
    "plt.subplot(122)\n",
    "plt.imshow(new_img,'gray') \n",
    "plt.title('high') \n",
    "plt.axis(\"off\")\n",
    "plt.show()\n",
    "# cv2.imshow(\"result_bg\",img)\n",
    "# cv2.waitKey()\n",
    "# cv2.destroyAllWindows()\n"
   ]
  },
  {
   "cell_type": "code",
   "execution_count": null,
   "metadata": {},
   "outputs": [],
   "source": [
    "######### 低通滤波 numpy(error) #########\n",
    "import cv2\n",
    "import numpy as np\n",
    "import matplotlib.pyplot as plt\n",
    "img = cv2.imread('../../image/1.jpg')\n",
    "f = np.fft.fftn(img)\n",
    "fshift = np.fft.fftshift(f)\n",
    "rows,cols,depth = img.shape\n",
    "crow,ccol = int(rows/2),int(cols/2)\n",
    "mask = np.zeros(img.shape,np.uint8)\n",
    "mask[crow-30:crow+30,ccol-30:ccol+30]=1\n",
    "new_fshift = mask*fshift\n",
    "new_f = np.fft.ifftshift(new_fshift)\n",
    "new_img = np.fft.ifftn(new_f)\n",
    "new_img = abs(new_img)\n",
    "plt.subplot(121)\n",
    "plt.imshow(img,'gray') \n",
    "plt.title('orginal')\n",
    "plt.subplot(122)\n",
    "plt.imshow(new_img,'gray') \n",
    "plt.title('short')\n",
    "plt.axis(\"off\")\n",
    "plt.show()\n"
   ]
  },
  {
   "cell_type": "code",
   "execution_count": null,
   "metadata": {},
   "outputs": [],
   "source": [
    "######### 低通滤波 opencv(success) #########\n",
    "'''\n",
    "cv2.imshow()和plt.imshow()的区别\n",
    "\n",
    "其实两者都可以,但要注意的是opencv是BGR通道,plt默认RGB通道,若使用cv2.imread()读入图像,\n",
    "用plt.imshow()展示原始图像或者展示对读入图像进行一系列操作后的图像时，需要进行通道转换\n",
    "在展示灰度图像时,cv2.imshow('gray', gray)\n",
    "plt.imshow(gray,cmap='gray'), plt.title('gray')\n",
    "'''\n",
    "import numpy as np\n",
    "import cv2\n",
    "import matplotlib.pyplot as plt\n",
    "img = cv2.imread('../../image/1.jpg',0)# 参数0等价于：cv2.IMREAD_GRAYSCALE。  如果不加0，会默认读取为三通道图像，即使原图像是灰度图\n",
    "#傅里叶变换\n",
    "dft = cv2.dft(np.float32(img),flags = cv2.DFT_COMPLEX_OUTPUT)#傅里叶变换\n",
    "dftShift = np.fft.fftshift(dft)#移动低频部分到中心\n",
    "#低通滤波器构造\n",
    "rows, cols = img.shape\n",
    "crow,ccol = int(rows/2) , int(cols/2)\n",
    "mask = np.zeros((rows,cols,2),np.uint8)\n",
    "mask[crow-30:crow+30, ccol-30:ccol+30]= 1\n",
    "#两个通道，与频谱图像匹配\n",
    "fShift = dftShift*mask\n",
    "#逆傅里叶变换\n",
    "ishift = np.fft.ifftshift(fShift)#移动中心位低频到原处\n",
    "iImg = cv2.idft(ishift)#逆傅里叶变换\n",
    "print(iImg)\n",
    "iImg= cv2.magnitude(iImg[:,:,0],iImg[:,:,1])#将数值变换到8位二进制数值图像格式,对实部和虚部进行处理\n",
    "print(iImg)\n",
    "#图像显示\n",
    "plt.subplot(121),plt.imshow(img, cmap = 'gray')\n",
    "plt.title('original'), plt.axis('off')\n",
    "plt.subplot(122),plt.imshow(iImg, cmap = 'gray')\n",
    "plt.title('result'), plt.axis('off')\n",
    "plt.show()"
   ]
  }
 ],
 "metadata": {
  "kernelspec": {
   "display_name": "Python 3.9.7 64-bit",
   "language": "python",
   "name": "python3"
  },
  "language_info": {
   "codemirror_mode": {
    "name": "ipython",
    "version": 3
   },
   "file_extension": ".py",
   "mimetype": "text/x-python",
   "name": "python",
   "nbconvert_exporter": "python",
   "pygments_lexer": "ipython3",
   "version": "3.9.7"
  },
  "orig_nbformat": 4,
  "vscode": {
   "interpreter": {
    "hash": "5504cb22fe740c3ce7305a705f94968d771bc53c03c973762407d2d6059a87ff"
   }
  }
 },
 "nbformat": 4,
 "nbformat_minor": 2
}
