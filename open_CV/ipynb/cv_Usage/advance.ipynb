{
 "cells": [
  {
   "cell_type": "markdown",
   "metadata": {},
   "source": [
    "#### 1. 调用摄像头用法大全（打开摄像头，打开摄像头并实时不断截屏，读取视频并截图）"
   ]
  },
  {
   "cell_type": "code",
   "execution_count": null,
   "metadata": {},
   "outputs": [],
   "source": [
    "import cv2\n",
    "import numpy as np\n",
    "img1 = cv2.imread('D:\\\\pythonProject\\\\open_CV\\\\image\\\\animal\\\\animal3\\\\all.jpg')\n",
    "img1"
   ]
  },
  {
   "cell_type": "code",
   "execution_count": null,
   "metadata": {},
   "outputs": [],
   "source": [
    "import cv2\n",
    "import numpy as np\n",
    "def video_demo():\n",
    "    capture = cv2.VideoCapture(0)#电脑内置摄像头\n",
    "    #VideoCapture(视频路径) 可以依靠视频生成逐帧的图片\n",
    "    while(True):\n",
    "        ret, frame = capture.read()#boolen ret 是否打开摄像头 frame 为视频的每一帧图片\n",
    "        print(ret)\n",
    "        frame = cv2.flip(frame,1)#摄像头是和人对立，将图像左右调换\n",
    "        c = cv2.waitKey(50)#输出的图片一张停留时间50毫秒，0表示自己关闭，则摄像头卡住，只显示第一张图像\n",
    "        print(c)\n",
    "        if c == 27:\n",
    "            break\n",
    "video_demo()\n",
    "cv2.destroyAllWindows()"
   ]
  },
  {
   "cell_type": "code",
   "execution_count": null,
   "metadata": {},
   "outputs": [],
   "source": [
    "import cv2\n",
    "import numpy as np\n",
    "capture = cv2.VideoCapture(0)#电脑内置摄像头\n",
    "capture.release()"
   ]
  },
  {
   "cell_type": "markdown",
   "metadata": {},
   "source": [
    "\n",
    "### 2.numpy操作图像，色彩空间，查找指定颜色范围，通道分离与合并"
   ]
  },
  {
   "cell_type": "markdown",
   "metadata": {},
   "source": [
    "遍历图像每一个像素，并颜色取反"
   ]
  },
  {
   "cell_type": "code",
   "execution_count": null,
   "metadata": {},
   "outputs": [],
   "source": [
    "import cv2\n",
    "import numpy as np\n",
    "def access_pixels(image):\n",
    "    print(image.shape);\n",
    "    height = image.shape[0]\n",
    "    width = image.shape[1]\n",
    "    channels = image.shape[2]\n",
    "    for row in range(height):\n",
    "        for col in range(width):\n",
    "            for c in range(channels):\n",
    "                pv = image[row, col, c]#遍历每一个像素\n",
    "                image[row, col, c] = 255 - pv#取反\n",
    "    cv2.namedWindow(\"new image\",0)#创建一个窗口\n",
    "    cv2.resizeWindow(\"new image\", 400, 300)#设置窗口大小\n",
    "    cv2.imshow(\"new image\",image)\n",
    "\n",
    "img1_src = cv2.imread(\"D:\\\\pythonProject\\\\open_CV\\\\image\\\\1.jpg\")\n",
    "#cv2.namedWindow(\"input image\",cv2.WINDOW_AUTOSIZE)\n",
    "cv2.namedWindow(\"input image\",0)#创建一个窗口\n",
    "cv2.resizeWindow(\"input image\", 400, 300)#设置窗口大小\n",
    "cv2.imshow(\"input image\",img1_src)\n",
    "t1 = cv2.getTickCount()\n",
    "access_pixels(img1_src)\n",
    "t2 = cv2.getTickCount()\n",
    "time = (t2-t1)/cv2.getTickFrequency()# 计算时差\n",
    "print(time*1000)\n",
    "cv2.waitKey(0)\n",
    "cv2.destroyAllWindows()\n"
   ]
  },
  {
   "cell_type": "markdown",
   "metadata": {},
   "source": [
    "numpy创建图"
   ]
  },
  {
   "cell_type": "code",
   "execution_count": 2,
   "metadata": {},
   "outputs": [
    {
     "name": "stdout",
     "output_type": "stream",
     "text": [
      "--------- Hello Python ---------\n"
     ]
    }
   ],
   "source": [
    "import cv2\n",
    "import numpy as np\n",
    "\n",
    "def create_image():#多通道图\n",
    "    img = np.zeros([400, 400, 3], np.uint8)#创建一张全黑图\n",
    "    img[: , : , 0] = np.ones([400, 400])*255#修改第一个通道值\n",
    "    img[:, :, 2] = np.ones([400, 400]) * 255#修改第三通道值\n",
    "    cv2.imshow(\"image\", img)\n",
    "    #cv.imwrite('test.jpg',img)\n",
    "\n",
    "def single_image():#单通道图\n",
    "    img = np.zeros([400, 400, 1], np.uint8)#创建一张全黑图\n",
    "    img[: , : , 0] = np.ones([400, 400])*100#修改第一个通道值\n",
    "    cv2.imshow(\"single image\", img)\n",
    "    #cv.imwrite('test.jpg',img)\n",
    "print(\"--------- Hello Python ---------\")\n",
    "\n",
    "create_image()\n",
    "single_image()\n",
    "cv2.waitKey(0)\n",
    "cv2.destroyAllWindows()"
   ]
  },
  {
   "cell_type": "markdown",
   "metadata": {},
   "source": [
    "色彩空间\n",
    "HSI、HSV、RGB、CMY、CMYK、HSL、HSB、Ycc、XYZ、Lab、YUV色彩空间（颜色模型）"
   ]
  },
  {
   "cell_type": "code",
   "execution_count": 1,
   "metadata": {},
   "outputs": [
    {
     "ename": "NameError",
     "evalue": "name 'cv2' is not defined",
     "output_type": "error",
     "traceback": [
      "\u001b[1;31m---------------------------------------------------------------------------\u001b[0m",
      "\u001b[1;31mNameError\u001b[0m                                 Traceback (most recent call last)",
      "\u001b[1;32m~\\AppData\\Local\\Temp/ipykernel_16124/1397851143.py\u001b[0m in \u001b[0;36m<module>\u001b[1;34m\u001b[0m\n\u001b[0;32m      8\u001b[0m     \u001b[0mYcrcb\u001b[0m \u001b[1;33m=\u001b[0m \u001b[0mcv2\u001b[0m\u001b[1;33m.\u001b[0m\u001b[0mcvtColor\u001b[0m\u001b[1;33m(\u001b[0m\u001b[0mimage\u001b[0m\u001b[1;33m,\u001b[0m \u001b[0mcv2\u001b[0m\u001b[1;33m.\u001b[0m\u001b[0mCOLOR_BGR2YCrCb\u001b[0m\u001b[1;33m)\u001b[0m\u001b[1;33m\u001b[0m\u001b[1;33m\u001b[0m\u001b[0m\n\u001b[0;32m      9\u001b[0m \u001b[1;33m\u001b[0m\u001b[0m\n\u001b[1;32m---> 10\u001b[1;33m \u001b[0mimg1_src\u001b[0m \u001b[1;33m=\u001b[0m \u001b[0mcv2\u001b[0m\u001b[1;33m.\u001b[0m\u001b[0mimread\u001b[0m\u001b[1;33m(\u001b[0m\u001b[1;34m\"D:\\\\pythonProject\\\\open_CV\\\\image\\\\1.jpg\"\u001b[0m\u001b[1;33m)\u001b[0m\u001b[1;33m\u001b[0m\u001b[1;33m\u001b[0m\u001b[0m\n\u001b[0m\u001b[0;32m     11\u001b[0m \u001b[0mcv2\u001b[0m\u001b[1;33m.\u001b[0m\u001b[0mnamedWindow\u001b[0m\u001b[1;33m(\u001b[0m\u001b[1;34m\"input image\"\u001b[0m\u001b[1;33m,\u001b[0m\u001b[1;36m0\u001b[0m\u001b[1;33m)\u001b[0m\u001b[1;31m#创建一个窗口\u001b[0m\u001b[1;33m\u001b[0m\u001b[1;33m\u001b[0m\u001b[0m\n\u001b[0;32m     12\u001b[0m \u001b[0mcv2\u001b[0m\u001b[1;33m.\u001b[0m\u001b[0mresizeWindow\u001b[0m\u001b[1;33m(\u001b[0m\u001b[1;34m\"input image\"\u001b[0m\u001b[1;33m,\u001b[0m \u001b[1;36m400\u001b[0m\u001b[1;33m,\u001b[0m \u001b[1;36m300\u001b[0m\u001b[1;33m)\u001b[0m\u001b[1;31m#设置窗口大小\u001b[0m\u001b[1;33m\u001b[0m\u001b[1;33m\u001b[0m\u001b[0m\n",
      "\u001b[1;31mNameError\u001b[0m: name 'cv2' is not defined"
     ]
    }
   ],
   "source": [
    "def color_demo(image):\n",
    "    gray = cv2.cvtColor(image,cv2.COLOR_BGR2GRAY)\n",
    "    cv2.namedWindow(\"gray image\",0)#创建一个窗口\n",
    "    cv2.resizeWindow(\"gray image\", 400, 300)#设置窗口大小  \n",
    "    cv2.imshow(\"gray\",gray)\n",
    "    hsv = cv2.cvtColor(image, cv2.COLOR_BGR2HSV)\n",
    "    yuv = cv2.cvtColor(image, cv2.COLOR_BGR2YUV)\n",
    "    Ycrcb = cv2.cvtColor(image, cv2.COLOR_BGR2YCrCb)\n",
    "\n",
    "img1_src = cv2.imread(\"D:\\\\pythonProject\\\\open_CV\\\\image\\\\1.jpg\")\n",
    "cv2.namedWindow(\"input image\",0)#创建一个窗口\n",
    "cv2.resizeWindow(\"input image\", 400, 300)#设置窗口大小\n",
    "cv2.imshow(\"input image\",img1_src)\n",
    "color_demo(img1_src)\n",
    "cv2.waitKey(0)\n",
    "cv2.destroyAllWindows()"
   ]
  },
  {
   "cell_type": "markdown",
   "metadata": {},
   "source": [
    "inRange查找颜色范围"
   ]
  },
  {
   "cell_type": "code",
   "execution_count": 3,
   "metadata": {},
   "outputs": [],
   "source": [
    "import numpy as np\n",
    "import cv2\n",
    "def color_space_demo(image):\n",
    "    hsv = cv2.cvtColor(image, cv2.COLOR_BGR2HSV)\n",
    "    lower_hsv = np.array([100,43,46])\n",
    "    upper_hsv = np.array([124,255,255])\n",
    "    mask = cv2.inRange(hsv,lower_hsv,upper_hsv)\n",
    "    cv2.imshow('hsvred',mask)\n",
    "\n",
    "img1_src = cv2.imread(\"D:\\\\pythonProject\\\\open_CV\\\\image\\\\cao.jpg\")\n",
    "# cv2.namedWindow(\"input image\", cv2.WINDOW_AUTOSIZE)\n",
    "# cv2.imshow(\"input image\", img1_src)\n",
    "color_space_demo(img1_src)\n",
    "cv2.waitKey(0)\n",
    "cv2.destroyAllWindows()\n",
    "\n"
   ]
  },
  {
   "cell_type": "code",
   "execution_count": 4,
   "metadata": {},
   "outputs": [],
   "source": [
    "#显示出蓝色部分\n",
    "def color_space_demo(image):\n",
    "    hsv = cv2.cvtColor(image, cv2.COLOR_BGR2HSV)\n",
    "    #cv.imshow(\"hsv\", hsv)\n",
    "    lower_hsv = np.array([100,43,46])\n",
    "    upper_hsv = np.array([124,255,255])\n",
    "    mask = cv2.inRange(hsv, lower_hsv, upper_hsv)\n",
    "    dst = cv2.bitwise_and(image, image,mask=mask)#除去mask部分的图像进行与运算。得到绿色\n",
    "    cv2.imshow('hsv_red', dst)\n",
    "    \n",
    "img2_src = cv2.imread(\"D:\\\\pythonProject\\\\open_CV\\\\image\\\\cao.jpg\")\n",
    "# cv2.namedWindow(\"input image\", cv2.WINDOW_AUTOSIZE)\n",
    "# cv2.imshow(\"input image\", img2_src)\n",
    "color_space_demo(img2_src)\n",
    "cv2.waitKey(0)\n",
    "cv2.destroyAllWindows()"
   ]
  },
  {
   "cell_type": "markdown",
   "metadata": {},
   "source": [
    "通道分离与合并"
   ]
  },
  {
   "cell_type": "code",
   "execution_count": 26,
   "metadata": {},
   "outputs": [],
   "source": [
    "#分离\n",
    "img1_src = cv2.imread(\"D:\\\\pythonProject\\\\open_CV\\\\image\\\\1.jpg\")\n",
    "b,g,r = cv2.split(img1_src)\n",
    "cv2.namedWindow(\"blue\", 0)\n",
    "cv2.resizeWindow(\"blue\",400,300)\n",
    "cv2.imshow(\"blue\", b)\n",
    "cv2.imshow(\"green\", g)\n",
    "cv2.imshow(\"red\", r)\n",
    "cv2.waitKey(0)\n",
    "cv2.destroyAllWindows()"
   ]
  },
  {
   "cell_type": "code",
   "execution_count": 34,
   "metadata": {},
   "outputs": [],
   "source": [
    "#合并\n",
    "img1_src = cv2.imread(\"D:\\\\pythonProject\\\\open_CV\\\\image\\\\1.jpg\")\n",
    "b,g,r = cv2.split(img1_src)\n",
    "new_src = cv2.merge([b,g,r])\n",
    "new_src = new_src[:,:,0]#给最后通道为0\n",
    "cv2.imshow(\"change image\",new_src)\n",
    "cv2.waitKey(0)\n",
    "cv2.destroyAllWindows()"
   ]
  }
 ],
 "metadata": {
  "kernelspec": {
   "display_name": "Python 3.9.7 64-bit",
   "language": "python",
   "name": "python3"
  },
  "language_info": {
   "codemirror_mode": {
    "name": "ipython",
    "version": 3
   },
   "file_extension": ".py",
   "mimetype": "text/x-python",
   "name": "python",
   "nbconvert_exporter": "python",
   "pygments_lexer": "ipython3",
   "version": "3.9.7"
  },
  "orig_nbformat": 4,
  "vscode": {
   "interpreter": {
    "hash": "5504cb22fe740c3ce7305a705f94968d771bc53c03c973762407d2d6059a87ff"
   }
  }
 },
 "nbformat": 4,
 "nbformat_minor": 2
}
