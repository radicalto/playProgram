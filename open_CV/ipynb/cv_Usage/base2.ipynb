{
 "cells": [
  {
   "cell_type": "markdown",
   "metadata": {},
   "source": [
    "#### 12：图像腐蚀和图像膨胀"
   ]
  },
  {
   "cell_type": "code",
   "execution_count": 5,
   "metadata": {},
   "outputs": [],
   "source": [
    "# 图像腐蚀\n",
    "# 腐蚀主要针对的是二值图像，如只有0和1两个值，\n",
    "# 两个输入对象：1原始二值图像，2卷积核\n",
    "'''\n",
    "使用方法:erode 中文翻译：侵蚀\n",
    "处理结果=cv2.erode(原始图像src,卷积核kernel,迭代次数iterations)\n",
    "卷积核kernel:一般为正方形数组 如:k=np.ones((5,5),np.uint8)\n",
    "迭代次数iterations:腐蚀次数,默认1\n",
    "'''\n",
    "import cv2\n",
    "import numpy as np\n",
    "src = cv2.imread(\"../../image/two-value.jpg\")\n",
    "k=np.ones((5,5),np.uint8)\n",
    "a = cv2.erode(src,kernel=k,iterations=5)\n",
    "cv2.imshow(\"erode\",a)\n",
    "\n",
    "# 图像膨胀\n",
    "# 图像腐蚀的逆操作\n",
    "'''\n",
    "使用方法:dilate\n",
    "结果=cv2.dilate(二值图像src,卷积核k,迭代次数itreations)'''\n",
    "b = cv2.dilate(a,kernel=k,iterations=5)\n",
    "cv2.imshow(\"dilate\",b)\n",
    "cv2.waitKey(0)\n",
    "cv2.destroyAllWindows()\n"
   ]
  },
  {
   "cell_type": "markdown",
   "metadata": {},
   "source": [
    "#### 13：形态学变换（开运算，闭运算，梯度运算）\n",
    "形态学里把腐蚀和膨胀单独拿了出来，其他操作（保括膨胀和腐蚀的组合操作）都叫形态学变换。"
   ]
  },
  {
   "cell_type": "code",
   "execution_count": 11,
   "metadata": {},
   "outputs": [],
   "source": [
    "# 开运算：对图像先进行腐蚀，然后对腐蚀后的图进行膨胀\n",
    "# 运算结果=cv2.morphologyEx(源图像img,cv2.MORPH_OPEN,卷积核k)\n",
    "import cv2\n",
    "import numpy as np\n",
    "src = cv2.imread(\"../../image/two-value.jpg\")\n",
    "k=np.ones((10,10),np.uint8)\n",
    "a = cv2.morphologyEx(src,cv2.MORPH_OPEN,kernel=k)\n",
    "cv2.imshow(\"original\",src)\n",
    "cv2.imshow(\"open\",a)\n",
    "# 闭运算\n",
    "# 对图像进行先膨胀，再腐蚀。\n",
    "# 有助于关闭前景物体上的小孔，或者小黑点\n",
    "b = cv2.morphologyEx(src,cv2.MORPH_CLOSE,kernel=k)\n",
    "cv2.imshow(\"close\",b)\n",
    "# 梯度运算\n",
    "# 对二值图像分别进行膨胀和腐蚀操作。\n",
    "# 然后膨胀图像-腐蚀图像=结果\n",
    "c = cv2.morphologyEx(src,cv2.MORPH_GRADIENT,kernel=k)\n",
    "cv2.imshow(\"gradient\",c)\n",
    "cv2.waitKey(0)\n",
    "cv2.destroyAllWindows()"
   ]
  },
  {
   "cell_type": "markdown",
   "metadata": {},
   "source": [
    "#### 14：图像礼帽，图像黑帽"
   ]
  },
  {
   "cell_type": "code",
   "execution_count": 12,
   "metadata": {},
   "outputs": [],
   "source": [
    "# 图像礼帽 也叫图像顶帽\n",
    "# 礼帽图像=原始图像-开运算图像\n",
    "# 得到噪声图像\n",
    "import cv2\n",
    "import numpy as np\n",
    "src = cv2.imread(\"../../image/two-value.jpg\")\n",
    "k=np.ones((10,10),np.uint8)\n",
    "a = cv2.morphologyEx(src,cv2.MORPH_TOPHAT,kernel=k)\n",
    "cv2.imshow(\"original\",src)\n",
    "cv2.imshow(\"tophat\",a)\n",
    "# 黑帽图像=闭运算图像-原始图像\n",
    "# 得到图像内部的小孔，或前景色的小黑点\n",
    "b = cv2.morphologyEx(src,cv2.MORPH_BLACKHAT,kernel=k)\n",
    "cv2.imshow(\"blackhat\",a)\n",
    "cv2.waitKey(0)\n",
    "cv2.destroyAllWindows()"
   ]
  },
  {
   "cell_type": "markdown",
   "metadata": {},
   "source": [
    "#### 15: 梯度运算之sobel算子及其函数使用\n",
    "https://blog.csdn.net/kobeyu652453/article/details/107149277"
   ]
  },
  {
   "cell_type": "code",
   "execution_count": 1,
   "metadata": {},
   "outputs": [],
   "source": [
    "'''\n",
    "obel函数使用\n",
    "dst=cv2.Sobel(src,ddepth,dx,dy,[kszie])\n",
    "dst:处理结果\n",
    "src:原始图像\n",
    "ddpepth:处理图像的深度.-1表示与原始图像一样\n",
    "dx:x轴方向,计算x轴方向,dx=1,dy=0\n",
    "dy:y轴方向,计算y轴,dx=0,dy=1\n",
    "[ksize]:核大小,默认3\n",
    "'''\n",
    "# d\n",
    "import cv2\n",
    "import numpy as np\n",
    "o = cv2.imread(\"../../image/two-value.jpg\")\n",
    "# 深度ddepth=cv2.CV_64F时\n",
    "sobelx = cv2.Sobel(o,-1,1,0,ksize=3)\n",
    "cv2.imshow(\"original\",o)\n",
    "cv2.imshow(\"x-d1\",sobelx)\n",
    "'''\n",
    "实际操作中,计算梯度值可能会出现负值而被截断。通常处理的图像类型为np.unit8,处理后的结果也是该类型,所有负数截断为0,发生信息丢失。\n",
    "所以,在计算时,使用更高的数据类型cv2.CV_64F,取绝对值后再转换成np.unit8(cv2.CV_8U)。所以深度ddepth不写-1,改cv2.CV_64F\n",
    "cv2.convertScaleAbs(imgsrc)\n",
    "取绝对值,并将梯度图像转换成256色位图,转换为unit8类型'''\n",
    "# 深度ddepth=cv2.CV_64F时，不添加cv2.convertScaleAbs(imgsrc)\n",
    "sobelx_CV_64F = cv2.Sobel(o,cv2.CV_64F,1,0,ksize=3)\n",
    "cv2.imshow(\"x-d1\",sobelx_CV_64F)\n",
    "\n",
    "# 可以发现x轴的左边边界部分没有取到,这是因为绝对值未取\n",
    "# 添加cv2.convertScaleAbs(imgsrc)\n",
    "sobelx_CV_64F_Abs = cv2.convertScaleAbs(sobelx_CV_64F)\n",
    "cv2.imshow(\"x-d CV_64F\",sobelx_CV_64F_Abs)\n",
    "\n",
    "# x和y梯度系数相加\n",
    "sobelxx = cv2.Sobel(o,cv2.CV_64F,1,0,ksize=3)\n",
    "sobelyy = cv2.Sobel(o,cv2.CV_64F,0,1,ksize=3)\n",
    "sobelxx = cv2.convertScaleAbs(sobelxx)   # 转回uint8\n",
    "sobelyy = cv2.convertScaleAbs(sobelyy)\n",
    "sobelxy =  cv2.addWeighted(sobelxx,0.5,sobelyy,0.5,0)\n",
    "cv2.imshow(\"sobelxy\",sobelxy)\n",
    "cv2.waitKey()\n",
    "cv2.destroyAllWindows()\n"
   ]
  },
  {
   "cell_type": "markdown",
   "metadata": {},
   "source": [
    "#### 梯度运算之scharr算子\n",
    "系数和sobel不一样，其他一样。Scharr算子是对Sobel算子差异性的增强\\\n",
    "https://blog.csdn.net/kobeyu652453/article/details/107150485"
   ]
  },
  {
   "cell_type": "code",
   "execution_count": 3,
   "metadata": {},
   "outputs": [],
   "source": [
    "'''\n",
    "dst=cv2.Scharr(src,ddpetph,dx,dy)\n",
    "dst:处理结果\n",
    "src:源图像\n",
    "ddpetph:图像深度\n",
    "dx:x轴方向\n",
    "dy:y轴方向\n",
    "'''\n",
    "# 3×3的sobel,可能不太精准 scharr算子更好\n",
    "import cv2\n",
    "import numpy as np\n",
    "o = cv2.imread(\"../../image/two-value.jpg\")\n",
    "cv2.imshow(\"original\",o)\n",
    "Scharrx = cv2.Scharr(o,cv2.CV_64F,1,0)\n",
    "Scharry = cv2.Scharr(o,cv2.CV_64F,0,1)\n",
    "Scharrx = cv2.convertScaleAbs(Scharrx)   # 转回uint8\n",
    "Scharry = cv2.convertScaleAbs(Scharry)\n",
    "Scharrxy =  cv2.addWeighted(Scharrx,0.5,Scharry,0.5,0)\n",
    "cv2.imshow(\"Scharrxy\",Scharrxy)\n",
    "cv2.waitKey()\n",
    "cv2.destroyAllWindows()\n",
    "# Sobel对一个卷积核参数，默认为3.当卷积核=-1时，表示Scharr函数"
   ]
  },
  {
   "cell_type": "markdown",
   "metadata": {},
   "source": [
    "#### 梯度运算之laplacian算子\n",
    "类似二阶sobel导数 sobel=|左-右|+|上-下|(不含中心锚点) laplacian=|左-右|+|上-下|+|右-左|+|下-上|(含中心锚点)\n",
    "https://blog.csdn.net/kobeyu652453/article/details/107151386"
   ]
  },
  {
   "cell_type": "code",
   "execution_count": 4,
   "metadata": {},
   "outputs": [],
   "source": [
    "import cv2\n",
    "import numpy as np\n",
    "o = cv2.imread(\"../../image/two-value.jpg\")\n",
    "cv2.imshow(\"original\",o)\n",
    "laplacian = cv2.Laplacian(o,cv2.CV_64F)\n",
    "cv2.imshow(\"laplacian\",laplacian)\n",
    "cv2.waitKey()\n",
    "cv2.destroyAllWindows()"
   ]
  },
  {
   "cell_type": "markdown",
   "metadata": {},
   "source": [
    "#### 18：canny算子边缘检测原理"
   ]
  },
  {
   "cell_type": "code",
   "execution_count": 2,
   "metadata": {},
   "outputs": [],
   "source": [
    "'''\n",
    "edges=cv2.Canny(image,threshold1,threshold2)\n",
    "edges:处理结果\n",
    "image:原始图像\n",
    "threshold1:minVal\n",
    "threshold2:maxVal\n",
    "如果想让边界细节更多,则把threshold1和threshold2设小些。\n",
    "'''\n",
    "import cv2\n",
    "import numpy as np\n",
    "o = cv2.imread(\"../../image/jiaoYan.jpg\")\n",
    "Gauss_o = cv2.GaussianBlur(o,(5,5),sigmaX=0)\n",
    "Canny_o = cv2.Canny(Gauss_o,100,200)\n",
    "cv2.imshow(\"canny\",Canny_o)\n",
    "cv2.waitKey()\n",
    "cv2.destroyAllWindows()\n",
    "# Canny算子\n",
    "# 1.去噪：边缘检测容易受到噪声的影响，在此之间，先去噪，通常采用高斯滤波器\n",
    "# 2.梯度：对去噪后的图像采用算子(一般选用sobel算子)计算梯度和方向\n",
    "# 3.非极大值抑制：在获得梯度和方向，去除所有不是边界的点\n",
    "# 实现方向：逐渐遍历像素点，判断当前像素点是否是周围像素点中具有相同方向梯度的最大值。是保留，不是则为0\n",
    "# 4.滞后阈值：有两个阈值，minVal,maxVal，大于maxVal或者小于minVal的舍弃"
   ]
  }
 ],
 "metadata": {
  "kernelspec": {
   "display_name": "Python 3.9.7 64-bit",
   "language": "python",
   "name": "python3"
  },
  "language_info": {
   "codemirror_mode": {
    "name": "ipython",
    "version": 3
   },
   "file_extension": ".py",
   "mimetype": "text/x-python",
   "name": "python",
   "nbconvert_exporter": "python",
   "pygments_lexer": "ipython3",
   "version": "3.9.7"
  },
  "orig_nbformat": 4,
  "vscode": {
   "interpreter": {
    "hash": "5504cb22fe740c3ce7305a705f94968d771bc53c03c973762407d2d6059a87ff"
   }
  }
 },
 "nbformat": 4,
 "nbformat_minor": 2
}
